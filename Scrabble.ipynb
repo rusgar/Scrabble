{
 "cells": [
  {
   "cell_type": "markdown",
   "id": "c5685cc2",
   "metadata": {},
   "source": [
    "# Introducción al análisis de texto con Python\n",
    "\n",
    "Introducción al Análisis de Texto con Python aprenderemos los conceptos básicos del análisis de texto:\n",
    "\n",
    "- texto de análisis\n",
    "- analizar el texto\n",
    "\n",
    "Primero usaremos nuestra propia herramienta de análisis hecha en casa, luego usaremos una biblioteca de python llamada `TextBlob` para usar algunas herramientas de análisis integradas.\n"
   ]
  },
  {
   "cell_type": "markdown",
   "id": "45b8fa38",
   "metadata": {},
   "source": [
    "## ¡Scrabble!\n",
    "\n",
    "<img src=\"https://upload.wikimedia.org/wikipedia/commons/5/5d/Scrabble_game_in_progress.jpg\" ancho =500x>\n",
    "\n",
    "Scrabble es un juego popular en el que los jugadores intentan sumar puntos deletreando palabras y colocándolas en el tablero de juego. Usaremos Scrabble para calificar nuestro primer intento de análisis de texto. Esto demostrará los conceptos básicos de cómo funciona el análisis de texto.\n",
    "\n",
    "La siguiente función te da la puntuación de Scrabble de cualquier palabra que le des."
   ]
  },
  {
   "cell_type": "code",
   "execution_count": 11,
   "id": "bf1142a8",
   "metadata": {},
   "outputs": [],
   "source": [
    "# Esta función devolverá la puntuación de Scrabble de una palabra\n",
    "\n",
    "def scrabble_score(texto):\n",
    "    \n",
    "   #Diccionario de nuestras puntuaciones de scrabble\n",
    "    puntuacion = {\n",
    "        \"a\": 1,\n",
    "        \"b\": 3,\n",
    "        \"c\": 3,\n",
    "        \"d\": 2,\n",
    "        \"e\": 1,\n",
    "        \"f\": 4,\n",
    "        \"g\": 2,\n",
    "        \"h\": 4,\n",
    "        \"i\": 1,\n",
    "        \"j\": 8,\n",
    "        \"k\": 5,\n",
    "        \"l\": 1,\n",
    "        \"m\": 3,\n",
    "        \"n\": 1,\n",
    "        \"o\": 1,\n",
    "        \"p\": 3,\n",
    "        \"q\": 10,\n",
    "        \"r\": 1,\n",
    "        \"s\": 1,\n",
    "        \"t\": 1,\n",
    "        \"u\": 1,\n",
    "        \"v\": 4,\n",
    "        \"w\": 4,\n",
    "        \"x\": 8,\n",
    "        \"y\": 4,\n",
    "        \"z\": 10,\n",
    "        \"\\n\": 0, #en caso de que un nuevo carácter de línea salte aquí\n",
    "        \" \":0 #normalmente las palabras sueltas no tienen espacios pero pondremos esto aquí por si acaso        \n",
    "    }\n",
    "    \n",
    "    total_score = 0\n",
    "    \n",
    "    #Buscamos cada letra en el diccionario de puntuación y la sumamos a un total acumulado\n",
    "    #para acortar nuestro diccionario, solo estamos usando letras minúsculas, por lo que debemos\n",
    "    #cambiar toda nuestra entrada a minúsculas con .lower()\n",
    "    for letra in texto:\n",
    "        total_score = total_score + puntuacion[letra.lower()]\n",
    "    \n",
    "    return total_score"
   ]
  },
  {
   "cell_type": "markdown",
   "id": "00f17666",
   "metadata": {},
   "source": [
    "El análisis de texto es un proceso que consta de tres pasos básicos:\n",
    "1. Identificar el texto  que le gustaría analizar\n",
    "1. Aplica el análisis a tu texto preparado\n",
    "1. Revisa los resultados\n",
    "\n",
    "En nuestro ejemplo muy básico de Scrabble, solo estamos interesados ​​en encontrar los puntos que obtendríamos por deletrear una palabra específica.\n",
    "\n",
    "En un ejemplo más complejo con un texto más grande, puede realizar cualquiera de los siguientes tipos de análisis:\n",
    "- determinar el sentimiento (tono positivo/negativo) del texto\n",
    "- cuantificar la complejidad de una pieza de escritura en función del vocabulario que utiliza\n",
    "- determinar qué temas están en su corpus\n",
    "- clasifique su texto en diferentes categorías en función de lo que trata\n",
    "\n",
    "Por supuesto, hay muchos otros resultados diferentes que puede obtener al realizar un análisis de texto."
   ]
  },
  {
   "cell_type": "markdown",
   "id": "f5ae5fe9",
   "metadata": {},
   "source": [
    "## Q1\n",
    "\n",
    "Puntúe su nombre creando la variable de texto `name` en la línea 1.\n",
    "\n",
    "¿Cuántos puntos obtienes por tu nombre? Complete la siguiente expresión para averiguar el puntaje de scrabble de su nombre"
   ]
  },
  {
   "cell_type": "code",
   "execution_count": 22,
   "id": "461e3c49",
   "metadata": {},
   "outputs": [
    {
     "name": "stdout",
     "output_type": "stream",
     "text": [
      "La puntuación de mi nombre es: 9\n"
     ]
    }
   ],
   "source": [
    "name = \"Eduardo\"\n",
    "print(\"La puntuación de mi nombre es:\", scrabble_score(name))"
   ]
  },
  {
   "cell_type": "markdown",
   "id": "95479c97",
   "metadata": {},
   "source": [
    "Califique el nombre de su mascota (o personaje favorito de una historia) creando la variable de texto `nombre_mascota` en la línea 1.\n",
    "¿Tu nombre o el nombre de tu mascota tiene una puntuación más alta en Scrabble?"
   ]
  },
  {
   "cell_type": "code",
   "execution_count": 23,
   "id": "755a7d31",
   "metadata": {},
   "outputs": [
    {
     "name": "stdout",
     "output_type": "stream",
     "text": [
      "La puntuación del nombre de mi mascota es: 4\n",
      "Mi nombre obtiene más o igual cantidad de puntos que el nombre de mi mascota\n"
     ]
    }
   ],
   "source": [
    "nombre_mascota = \"Lila\"\n",
    "print(\"La puntuación del nombre de mi mascota es:\",scrabble_score(nombre_mascota))\n",
    "\n",
    "#¡Compara para ver cuál obtiene más puntos!\n",
    "if scrabble_score(nombre_mascota) > scrabble_score(name):\n",
    "    print(\"¡El nombre de mi mascota gana más puntos!\")\n",
    "else:\n",
    "    print(\"Mi nombre obtiene más o igual cantidad de puntos que el nombre de mi mascota\")"
   ]
  },
  {
   "cell_type": "markdown",
   "id": "a02f2c82",
   "metadata": {},
   "source": [
    "# Mas allá de lo básico\n",
    "\n",
    "Acabamos de completar un análisis de texto muy básico en el que analizamos dos fragmentos de texto diferentes para ver cuál obtiene una puntuación más alta en Scrabble. Expandamos esta idea a un ejemplo más complejo usando la biblioteca de Python [TextBlob](https://textblob.readthedocs.io/en/dev/). Hay otras bibliotecas más complejas que puede usar para el análisis de texto, estamos usando soluciones más simples para que podamos pasar más tiempo mirando los resultados en comparación con la configuración del código."
   ]
  },
  {
   "cell_type": "markdown",
   "id": "0a4bf895",
   "metadata": {},
   "source": [
    "# Instalación y carga de las bibliotecas\n",
    "\n",
    "La siguiente celda instalará y cargará las bibliotecas requeridas que realizarán el análisis de texto.\n",
    "Documentacion [NLTK](https://www.nltk.org/data.html)  es una plataforma líder para crear programas de Python para trabajar con datos de lenguaje humano."
   ]
  },
  {
   "cell_type": "code",
   "execution_count": 27,
   "id": "4b86cd98",
   "metadata": {},
   "outputs": [
    {
     "name": "stdout",
     "output_type": "stream",
     "text": [
      "Requirement already satisfied: textblob in c:\\users\\propietario\\appdata\\local\\programs\\python\\python39\\lib\\site-packages (0.17.1)\n",
      "Requirement already satisfied: nltk>=3.1 in c:\\users\\propietario\\appdata\\local\\programs\\python\\python39\\lib\\site-packages (from textblob) (3.6.7)\n",
      "Requirement already satisfied: tqdm in c:\\users\\propietario\\appdata\\local\\programs\\python\\python39\\lib\\site-packages (from nltk>=3.1->textblob) (4.62.3)\n",
      "Requirement already satisfied: joblib in c:\\users\\propietario\\appdata\\local\\programs\\python\\python39\\lib\\site-packages (from nltk>=3.1->textblob) (1.0.1)\n",
      "Requirement already satisfied: regex>=2021.8.3 in c:\\users\\propietario\\appdata\\local\\programs\\python\\python39\\lib\\site-packages (from nltk>=3.1->textblob) (2022.1.18)\n",
      "Requirement already satisfied: click in c:\\users\\propietario\\appdata\\local\\programs\\python\\python39\\lib\\site-packages (from nltk>=3.1->textblob) (7.1.2)\n",
      "Requirement already satisfied: colorama in c:\\users\\propietario\\appdata\\roaming\\python\\python39\\site-packages (from tqdm->nltk>=3.1->textblob) (0.4.4)\n",
      "Note: you may need to restart the kernel to use updated packages.\n"
     ]
    },
    {
     "name": "stderr",
     "output_type": "stream",
     "text": [
      "[nltk_data] Downloading package stopwords to\n",
      "[nltk_data]     C:\\Users\\Propietario\\AppData\\Roaming\\nltk_data...\n",
      "[nltk_data]   Package stopwords is already up-to-date!\n",
      "[nltk_data] Downloading package punkt to\n",
      "[nltk_data]     C:\\Users\\Propietario\\AppData\\Roaming\\nltk_data...\n",
      "[nltk_data]   Package punkt is already up-to-date!\n",
      "[nltk_data] Downloading package averaged_perceptron_tagger to\n",
      "[nltk_data]     C:\\Users\\Propietario\\AppData\\Roaming\\nltk_data...\n",
      "[nltk_data]   Package averaged_perceptron_tagger is already up-to-\n",
      "[nltk_data]       date!\n",
      "[nltk_data] Downloading package brown to\n",
      "[nltk_data]     C:\\Users\\Propietario\\AppData\\Roaming\\nltk_data...\n",
      "[nltk_data]   Package brown is already up-to-date!\n"
     ]
    }
   ],
   "source": [
    "\n",
    "%pip install textblob\n",
    "\n",
    "\n",
    "from textblob import TextBlob\n",
    "\n",
    "import pandas as pd\n",
    "import nltk\n",
    "from nltk.corpus import stopwords\n",
    "import requests\n",
    "import matplotlib.pyplot as plt\n",
    "from bs4 import BeautifulSoup\n",
    "\n",
    "nltk.download('stopwords')\n",
    "nltk.download('punkt')\n",
    "nltk.download('averaged_perceptron_tagger')\n",
    "nltk.download('brown')\n",
    "\n",
    "\n",
    "#Let's make sure our previews show more information\n",
    "pd.set_option('display.max_colwidth', 999)\n",
    "\n",
    "#Classifier for laster \n",
    "from textblob.classifiers import NaiveBayesClassifier\n",
    "from textblob import Word"
   ]
  },
  {
   "cell_type": "markdown",
   "id": "6d4b0bf5",
   "metadata": {},
   "source": [
    "# Texto\n",
    "\n",
    "![winnie_splash](https://raw.githubusercontent.com/BrockDSL/Text_Analysis_with_Python/master/winnie_splash.png)\n",
    "\n",
    "Corpus es una forma elegante de decir el texto que vamos a ver. Limpiar un corpus y prepararlo para el análisis es una gran parte del proceso, una vez hecho esto, el resto es fácil. Para nuestro ejemplo, vamos a ver algunas entradas del [diario] de 1900 (https://dr.library.brocku.ca/handle/10464/7282) de Winnie Beam. La siguiente celda cargará este corpus en un marco de datos de Pandas y nos mostrará algunos enteros."
   ]
  },
  {
   "cell_type": "code",
   "execution_count": 28,
   "id": "2371d300",
   "metadata": {},
   "outputs": [
    {
     "data": {
      "text/html": [
       "<div>\n",
       "<style scoped>\n",
       "    .dataframe tbody tr th:only-of-type {\n",
       "        vertical-align: middle;\n",
       "    }\n",
       "\n",
       "    .dataframe tbody tr th {\n",
       "        vertical-align: top;\n",
       "    }\n",
       "\n",
       "    .dataframe thead th {\n",
       "        text-align: right;\n",
       "    }\n",
       "</style>\n",
       "<table border=\"1\" class=\"dataframe\">\n",
       "  <thead>\n",
       "    <tr style=\"text-align: right;\">\n",
       "      <th></th>\n",
       "      <th>page</th>\n",
       "      <th>date</th>\n",
       "      <th>entry</th>\n",
       "    </tr>\n",
       "  </thead>\n",
       "  <tbody>\n",
       "    <tr>\n",
       "      <th>0</th>\n",
       "      <td>7</td>\n",
       "      <td>1900-01-01</td>\n",
       "      <td>New Year. First day of 1900 Charlie Merritt died at Grand Forks British Columbia yesterday of typhoid fever. To-day is election day and pap went up about 3 o'clock and did not get back until nearly 10. He brought us some candy chocolate drops. We had a very fat goose for dinner, not a very young one. Had to have good teeth.</td>\n",
       "    </tr>\n",
       "    <tr>\n",
       "      <th>1</th>\n",
       "      <td>7</td>\n",
       "      <td>1900-01-02</td>\n",
       "      <td>Went uptown in afternoon. Was up to Eckardt's but Miss Macfarlane was not there so I did not get what I wanted. Called at office and Nettie came home with me for tea. Mr Carman came over and borrowed my Mildred books. Then Leta came &amp; borrowed my German Grammar as she forgot hers &amp; left it at school before holiday. Papa, mamma, Nettie &amp; I played crokinole. Mamma &amp; I beat. The 2nd Contingent left for Toronto today to go to South Africa. Dr King's som went.</td>\n",
       "    </tr>\n",
       "    <tr>\n",
       "      <th>2</th>\n",
       "      <td>8</td>\n",
       "      <td>1900-01-03</td>\n",
       "      <td>Mrs Trusty was here washing School started to-day, but I was not going this week. Mamma went to the church and then to Mrs Chatfields Took her the church books. The queen Street Baptist church had a service of praise this evening. Mrs Chapman is organist &amp; Mrs Read-Muir sang Mrs George Armstrong has a daughter was born on New Year's day.</td>\n",
       "    </tr>\n",
       "    <tr>\n",
       "      <th>3</th>\n",
       "      <td>8</td>\n",
       "      <td>1900-01-04</td>\n",
       "      <td>Went over to Carman's to have Ella go with me to Dunn's greenhouse. We went about half past three. I brought a primrose Miss Chaplin was in there. Mamma went to Mrs Klotz at home Beatrice helped. Papa &amp; I went to Sunday School entertainment at night. Had a very long programme. There was a dialogue called \"Aunt Ketty's shopping which was good, and a shaving scene. Mr perry gave a tableful of prizes away. Beatrice came home with us. They had a drill of girls &amp; they sang \"Soldiers of the Queen\"</td>\n",
       "    </tr>\n",
       "    <tr>\n",
       "      <th>4</th>\n",
       "      <td>9</td>\n",
       "      <td>1900-01-05</td>\n",
       "      <td>Sweep day. I read \"At the Camerons\" in the \"Harper's Young People\" when mamma was sweeping. We had a beggar in afternoon asking for a few cents as he had a long way to go. Rats! Went over to Lee's in afternoon after eggs. Took a \"Young Ladies Journal\" Mrs Pay lent me. Her kitty has a sore tail. Mrs Malcolmson came after eggs when I was there. She got large sum of 2. Had some candy at night.</td>\n",
       "    </tr>\n",
       "  </tbody>\n",
       "</table>\n",
       "</div>"
      ],
      "text/plain": [
       "   page       date  \\\n",
       "0     7 1900-01-01   \n",
       "1     7 1900-01-02   \n",
       "2     8 1900-01-03   \n",
       "3     8 1900-01-04   \n",
       "4     9 1900-01-05   \n",
       "\n",
       "                                                                                                                                                                                                                                                                                                                                                                                                                                                                                                              entry  \n",
       "0                                                                                                                                                                             New Year. First day of 1900 Charlie Merritt died at Grand Forks British Columbia yesterday of typhoid fever. To-day is election day and pap went up about 3 o'clock and did not get back until nearly 10. He brought us some candy chocolate drops. We had a very fat goose for dinner, not a very young one. Had to have good teeth.  \n",
       "1                                       Went uptown in afternoon. Was up to Eckardt's but Miss Macfarlane was not there so I did not get what I wanted. Called at office and Nettie came home with me for tea. Mr Carman came over and borrowed my Mildred books. Then Leta came & borrowed my German Grammar as she forgot hers & left it at school before holiday. Papa, mamma, Nettie & I played crokinole. Mamma & I beat. The 2nd Contingent left for Toronto today to go to South Africa. Dr King's som went.  \n",
       "2                                                                                                                                                               Mrs Trusty was here washing School started to-day, but I was not going this week. Mamma went to the church and then to Mrs Chatfields Took her the church books. The queen Street Baptist church had a service of praise this evening. Mrs Chapman is organist & Mrs Read-Muir sang Mrs George Armstrong has a daughter was born on New Year's day.  \n",
       "3  Went over to Carman's to have Ella go with me to Dunn's greenhouse. We went about half past three. I brought a primrose Miss Chaplin was in there. Mamma went to Mrs Klotz at home Beatrice helped. Papa & I went to Sunday School entertainment at night. Had a very long programme. There was a dialogue called \"Aunt Ketty's shopping which was good, and a shaving scene. Mr perry gave a tableful of prizes away. Beatrice came home with us. They had a drill of girls & they sang \"Soldiers of the Queen\"  \n",
       "4                                                                                                         Sweep day. I read \"At the Camerons\" in the \"Harper's Young People\" when mamma was sweeping. We had a beggar in afternoon asking for a few cents as he had a long way to go. Rats! Went over to Lee's in afternoon after eggs. Took a \"Young Ladies Journal\" Mrs Pay lent me. Her kitty has a sore tail. Mrs Malcolmson came after eggs when I was there. She got large sum of 2. Had some candy at night.  "
      ]
     },
     "execution_count": 28,
     "metadata": {},
     "output_type": "execute_result"
    }
   ],
   "source": [
    "winnie_corpus = pd.read_csv('https://raw.githubusercontent.com/BrockDSL/Text_Analysis_with_Python/master/winnie_corpus.txt', header = None, delimiter=\"\\t\")\n",
    "winnie_corpus.columns = [\"page\",\"date\",\"entry\"]\n",
    "winnie_corpus['date'] = pd.to_datetime(winnie_corpus['date'])\n",
    "winnie_corpus['entry'] = winnie_corpus.entry.astype(str)\n",
    "\n",
    "#preview our top entries\n",
    "winnie_corpus.head()"
   ]
  },
  {
   "cell_type": "code",
   "execution_count": null,
   "id": "f2a9be06",
   "metadata": {},
   "outputs": [],
   "source": []
  }
 ],
 "metadata": {
  "kernelspec": {
   "display_name": "Python 3",
   "language": "python",
   "name": "python3"
  },
  "language_info": {
   "codemirror_mode": {
    "name": "ipython",
    "version": 3
   },
   "file_extension": ".py",
   "mimetype": "text/x-python",
   "name": "python",
   "nbconvert_exporter": "python",
   "pygments_lexer": "ipython3",
   "version": "3.9.2"
  }
 },
 "nbformat": 4,
 "nbformat_minor": 5
}
