{
 "cells": [
  {
   "cell_type": "markdown",
   "id": "59cddde2",
   "metadata": {},
   "source": [
    "# Introducción al análisis de texto con Python\n",
    "\n",
    "Introducción al Análisis de Texto con Python aprenderemos los conceptos básicos del análisis de texto:\n",
    "\n",
    "- texto de análisis\n",
    "- analizar el texto\n",
    "\n",
    "Primero usaremos nuestra propia herramienta de análisis hecha en casa, luego usaremos una biblioteca de python llamada `TextBlob` para usar algunas herramientas de análisis integradas.\n"
   ]
  },
  {
   "cell_type": "markdown",
   "id": "10681924",
   "metadata": {},
   "source": [
    "## ¡Scrabble!\n",
    "\n",
    "<img src=\"https://upload.wikimedia.org/wikipedia/commons/5/5d/Scrabble_game_in_progress.jpg\" ancho =500x>\n",
    "\n",
    "Scrabble es un juego popular en el que los jugadores intentan sumar puntos deletreando palabras y colocándolas en el tablero de juego. Usaremos Scrabble para calificar nuestro primer intento de análisis de texto. Esto demostrará los conceptos básicos de cómo funciona el análisis de texto.\n",
    "\n",
    "La siguiente función te da la puntuación de Scrabble de cualquier palabra que le des."
   ]
  },
  {
   "cell_type": "code",
   "execution_count": 1,
   "id": "d3a5f809",
   "metadata": {},
   "outputs": [],
   "source": [
    "# Esta función devolverá la puntuación de Scrabble de una palabra\n",
    "\n",
    "def scrabble_score(texto):\n",
    "    \n",
    "   #Diccionario de nuestras puntuaciones de scrabble\n",
    "    puntuacion = {\n",
    "        \"a\": 1,\n",
    "        \"b\": 3,\n",
    "        \"c\": 3,\n",
    "        \"d\": 2,\n",
    "        \"e\": 1,\n",
    "        \"f\": 4,\n",
    "        \"g\": 2,\n",
    "        \"h\": 4,\n",
    "        \"i\": 1,\n",
    "        \"j\": 8,\n",
    "        \"k\": 5,\n",
    "        \"l\": 1,\n",
    "        \"m\": 3,\n",
    "        \"n\": 1,\n",
    "        \"o\": 1,\n",
    "        \"p\": 3,\n",
    "        \"q\": 10,\n",
    "        \"r\": 1,\n",
    "        \"s\": 1,\n",
    "        \"t\": 1,\n",
    "        \"u\": 1,\n",
    "        \"v\": 4,\n",
    "        \"w\": 4,\n",
    "        \"x\": 8,\n",
    "        \"y\": 4,\n",
    "        \"z\": 10,\n",
    "        \"\\n\": 0, #en caso de que un nuevo carácter de línea salte aquí\n",
    "        \" \":0 #normalmente las palabras sueltas no tienen espacios pero pondremos esto aquí por si acaso        \n",
    "    }\n",
    "    \n",
    "    total_score = 0\n",
    "    \n",
    "    #Buscamos cada letra en el diccionario de puntuación y la sumamos a un total acumulado\n",
    "    #para acortar nuestro diccionario, solo estamos usando letras minúsculas, por lo que debemos\n",
    "    #cambiar toda nuestra entrada a minúsculas con .lower()\n",
    "    for letra in texto:\n",
    "        total_score = total_score + puntuacion[letra.lower()]\n",
    "    \n",
    "    return total_score"
   ]
  },
  {
   "cell_type": "markdown",
   "id": "1b175f84",
   "metadata": {},
   "source": [
    "El análisis de texto es un proceso que consta de tres pasos básicos:\n",
    "1. Identificar el texto  que le gustaría analizar\n",
    "1. Aplica el análisis a tu texto preparado\n",
    "1. Revisa los resultados\n",
    "\n",
    "En nuestro ejemplo muy básico de Scrabble, solo estamos interesados ​​en encontrar los puntos que obtendríamos por deletrear una palabra específica.\n",
    "\n",
    "En un ejemplo más complejo con un texto más grande, puede realizar cualquiera de los siguientes tipos de análisis:\n",
    "- determinar el sentimiento (tono positivo/negativo) del texto\n",
    "- cuantificar la complejidad de una pieza de escritura en función del vocabulario que utiliza\n",
    "- determinar qué temas están en su corpus\n",
    "- clasifique su texto en diferentes categorías en función de lo que trata\n",
    "\n",
    "Por supuesto, hay muchos otros resultados diferentes que puede obtener al realizar un análisis de texto."
   ]
  },
  {
   "cell_type": "markdown",
   "id": "040a9c38",
   "metadata": {},
   "source": [
    "## Q1\n",
    "\n",
    "Puntúe su nombre creando la variable de texto `name` en la línea 1.\n",
    "\n",
    "¿Cuántos puntos obtienes por tu nombre? Complete la siguiente expresión para averiguar el puntaje de scrabble de su nombre"
   ]
  },
  {
   "cell_type": "code",
   "execution_count": 2,
   "id": "c6b2de16",
   "metadata": {},
   "outputs": [
    {
     "name": "stdout",
     "output_type": "stream",
     "text": [
      "La puntuación de mi nombre es: 9\n"
     ]
    }
   ],
   "source": [
    "name = \"Eduardo\"\n",
    "print(\"La puntuación de mi nombre es:\", scrabble_score(name))"
   ]
  },
  {
   "cell_type": "markdown",
   "id": "c988b133",
   "metadata": {},
   "source": [
    "Califique el nombre de su mascota (o personaje favorito de una historia) creando la variable de texto `nombre_mascota` en la línea 1.\n",
    "¿Tu nombre o el nombre de tu mascota tiene una puntuación más alta en Scrabble?"
   ]
  },
  {
   "cell_type": "code",
   "execution_count": 3,
   "id": "d308c1b2",
   "metadata": {},
   "outputs": [
    {
     "name": "stdout",
     "output_type": "stream",
     "text": [
      "La puntuación del nombre de mi mascota es: 4\n",
      "Mi nombre obtiene más o igual cantidad de puntos que el nombre de mi mascota\n"
     ]
    }
   ],
   "source": [
    "nombre_mascota = \"Lila\"\n",
    "print(\"La puntuación del nombre de mi mascota es:\",scrabble_score(nombre_mascota))\n",
    "\n",
    "#¡Compara para ver cuál obtiene más puntos!\n",
    "if scrabble_score(nombre_mascota) > scrabble_score(name):\n",
    "    print(\"¡El nombre de mi mascota gana más puntos!\")\n",
    "else:\n",
    "    print(\"Mi nombre obtiene más o igual cantidad de puntos que el nombre de mi mascota\")"
   ]
  },
  {
   "cell_type": "markdown",
   "id": "2f44377d",
   "metadata": {},
   "source": [
    "# Mas allá de lo básico\n",
    "\n",
    "Acabamos de completar un análisis de texto muy básico en el que analizamos dos fragmentos de texto diferentes para ver cuál obtiene una puntuación más alta en Scrabble. Expandamos esta idea a un ejemplo más complejo usando la biblioteca de Python [TextBlob](https://textblob.readthedocs.io/en/dev/). Hay otras bibliotecas más complejas que puede usar para el análisis de texto, estamos usando soluciones más simples para que podamos pasar más tiempo mirando los resultados en comparación con la configuración del código."
   ]
  },
  {
   "cell_type": "markdown",
   "id": "2448bc2e",
   "metadata": {},
   "source": [
    "# Instalación y carga de las bibliotecas\n",
    "\n",
    "La siguiente celda instalará y cargará las bibliotecas requeridas que realizarán el análisis de texto.\n",
    "Documentacion [NLTK](https://www.nltk.org/data.html)  es una plataforma líder para crear programas de Python para trabajar con datos de lenguaje humano."
   ]
  },
  {
   "cell_type": "code",
   "execution_count": 4,
   "id": "4e2b5d47",
   "metadata": {},
   "outputs": [
    {
     "name": "stdout",
     "output_type": "stream",
     "text": [
      "Requirement already satisfied: textblob in c:\\users\\propietario\\appdata\\local\\programs\\python\\python39\\lib\\site-packages (0.17.1)\n",
      "Requirement already satisfied: nltk>=3.1 in c:\\users\\propietario\\appdata\\local\\programs\\python\\python39\\lib\\site-packages (from textblob) (3.6.7)\n",
      "Requirement already satisfied: tqdm in c:\\users\\propietario\\appdata\\local\\programs\\python\\python39\\lib\\site-packages (from nltk>=3.1->textblob) (4.62.3)\n",
      "Requirement already satisfied: regex>=2021.8.3 in c:\\users\\propietario\\appdata\\local\\programs\\python\\python39\\lib\\site-packages (from nltk>=3.1->textblob) (2022.1.18)\n",
      "Requirement already satisfied: click in c:\\users\\propietario\\appdata\\local\\programs\\python\\python39\\lib\\site-packages (from nltk>=3.1->textblob) (7.1.2)\n",
      "Requirement already satisfied: joblib in c:\\users\\propietario\\appdata\\local\\programs\\python\\python39\\lib\\site-packages (from nltk>=3.1->textblob) (1.0.1)\n",
      "Requirement already satisfied: colorama in c:\\users\\propietario\\appdata\\roaming\\python\\python39\\site-packages (from tqdm->nltk>=3.1->textblob) (0.4.4)\n",
      "Note: you may need to restart the kernel to use updated packages.\n"
     ]
    },
    {
     "name": "stderr",
     "output_type": "stream",
     "text": [
      "[nltk_data] Downloading package stopwords to\n",
      "[nltk_data]     C:\\Users\\Propietario\\AppData\\Roaming\\nltk_data...\n",
      "[nltk_data]   Package stopwords is already up-to-date!\n",
      "[nltk_data] Downloading package punkt to\n",
      "[nltk_data]     C:\\Users\\Propietario\\AppData\\Roaming\\nltk_data...\n",
      "[nltk_data]   Package punkt is already up-to-date!\n",
      "[nltk_data] Downloading package averaged_perceptron_tagger to\n",
      "[nltk_data]     C:\\Users\\Propietario\\AppData\\Roaming\\nltk_data...\n",
      "[nltk_data]   Package averaged_perceptron_tagger is already up-to-\n",
      "[nltk_data]       date!\n",
      "[nltk_data] Downloading package brown to\n",
      "[nltk_data]     C:\\Users\\Propietario\\AppData\\Roaming\\nltk_data...\n",
      "[nltk_data]   Package brown is already up-to-date!\n"
     ]
    }
   ],
   "source": [
    "\n",
    "%pip install textblob\n",
    "\n",
    "\n",
    "from textblob import TextBlob\n",
    "\n",
    "import pandas as pd\n",
    "import nltk\n",
    "from nltk.corpus import stopwords\n",
    "import requests\n",
    "import matplotlib.pyplot as plt\n",
    "from bs4 import BeautifulSoup\n",
    "\n",
    "nltk.download('stopwords')\n",
    "nltk.download('punkt')\n",
    "nltk.download('averaged_perceptron_tagger')\n",
    "nltk.download('brown')\n",
    "\n",
    "\n",
    "#Let's make sure our previews show more information\n",
    "pd.set_option('display.max_colwidth', 999)\n",
    "\n",
    "#Classifier for laster \n",
    "from textblob.classifiers import NaiveBayesClassifier\n",
    "from textblob import Word"
   ]
  },
  {
   "cell_type": "markdown",
   "id": "23c912a0",
   "metadata": {},
   "source": [
    "# Texto\n",
    "\n",
    "![winnie_splash](https://raw.githubusercontent.com/BrockDSL/Text_Analysis_with_Python/master/winnie_splash.png)\n",
    "\n",
    "Corpus es una forma elegante de decir el texto que vamos a ver. Limpiar un corpus y prepararlo para el análisis es una gran parte del proceso, una vez hecho esto, el resto es fácil. Para nuestro ejemplo, vamos a ver algunas entradas del [diario](https://dr.library.brocku.ca/handle/10464/7282) de Winnie Beam. La siguiente celda cargará este corpus en un marco de datos de Pandas y nos mostrará algunos enteros."
   ]
  },
  {
   "cell_type": "code",
   "execution_count": 44,
   "id": "0e7f77f2",
   "metadata": {},
   "outputs": [
    {
     "data": {
      "text/html": [
       "<div>\n",
       "<style scoped>\n",
       "    .dataframe tbody tr th:only-of-type {\n",
       "        vertical-align: middle;\n",
       "    }\n",
       "\n",
       "    .dataframe tbody tr th {\n",
       "        vertical-align: top;\n",
       "    }\n",
       "\n",
       "    .dataframe thead th {\n",
       "        text-align: right;\n",
       "    }\n",
       "</style>\n",
       "<table border=\"1\" class=\"dataframe\">\n",
       "  <thead>\n",
       "    <tr style=\"text-align: right;\">\n",
       "      <th></th>\n",
       "      <th>Pagina</th>\n",
       "      <th>Dia</th>\n",
       "      <th>Texto</th>\n",
       "    </tr>\n",
       "  </thead>\n",
       "  <tbody>\n",
       "    <tr>\n",
       "      <th>0</th>\n",
       "      <td>7</td>\n",
       "      <td>1900-01-01</td>\n",
       "      <td>New Year. First day of 1900 Charlie Merritt died at Grand Forks British Columbia yesterday of typhoid fever. To-day is election day and pap went up about 3 o'clock and did not get back until nearly 10. He brought us some candy chocolate drops. We had a very fat goose for dinner, not a very young one. Had to have good teeth.</td>\n",
       "    </tr>\n",
       "    <tr>\n",
       "      <th>1</th>\n",
       "      <td>7</td>\n",
       "      <td>1900-01-02</td>\n",
       "      <td>Went uptown in afternoon. Was up to Eckardt's but Miss Macfarlane was not there so I did not get what I wanted. Called at office and Nettie came home with me for tea. Mr Carman came over and borrowed my Mildred books. Then Leta came &amp; borrowed my German Grammar as she forgot hers &amp; left it at school before holiday. Papa, mamma, Nettie &amp; I played crokinole. Mamma &amp; I beat. The 2nd Contingent left for Toronto today to go to South Africa. Dr King's som went.</td>\n",
       "    </tr>\n",
       "    <tr>\n",
       "      <th>2</th>\n",
       "      <td>8</td>\n",
       "      <td>1900-01-03</td>\n",
       "      <td>Mrs Trusty was here washing School started to-day, but I was not going this week. Mamma went to the church and then to Mrs Chatfields Took her the church books. The queen Street Baptist church had a service of praise this evening. Mrs Chapman is organist &amp; Mrs Read-Muir sang Mrs George Armstrong has a daughter was born on New Year's day.</td>\n",
       "    </tr>\n",
       "    <tr>\n",
       "      <th>3</th>\n",
       "      <td>8</td>\n",
       "      <td>1900-01-04</td>\n",
       "      <td>Went over to Carman's to have Ella go with me to Dunn's greenhouse. We went about half past three. I brought a primrose Miss Chaplin was in there. Mamma went to Mrs Klotz at home Beatrice helped. Papa &amp; I went to Sunday School entertainment at night. Had a very long programme. There was a dialogue called \"Aunt Ketty's shopping which was good, and a shaving scene. Mr perry gave a tableful of prizes away. Beatrice came home with us. They had a drill of girls &amp; they sang \"Soldiers of the Queen\"</td>\n",
       "    </tr>\n",
       "    <tr>\n",
       "      <th>4</th>\n",
       "      <td>9</td>\n",
       "      <td>1900-01-05</td>\n",
       "      <td>Sweep day. I read \"At the Camerons\" in the \"Harper's Young People\" when mamma was sweeping. We had a beggar in afternoon asking for a few cents as he had a long way to go. Rats! Went over to Lee's in afternoon after eggs. Took a \"Young Ladies Journal\" Mrs Pay lent me. Her kitty has a sore tail. Mrs Malcolmson came after eggs when I was there. She got large sum of 2. Had some candy at night.</td>\n",
       "    </tr>\n",
       "  </tbody>\n",
       "</table>\n",
       "</div>"
      ],
      "text/plain": [
       "   Pagina        Dia  \\\n",
       "0       7 1900-01-01   \n",
       "1       7 1900-01-02   \n",
       "2       8 1900-01-03   \n",
       "3       8 1900-01-04   \n",
       "4       9 1900-01-05   \n",
       "\n",
       "                                                                                                                                                                                                                                                                                                                                                                                                                                                                                                              Texto  \n",
       "0                                                                                                                                                                             New Year. First day of 1900 Charlie Merritt died at Grand Forks British Columbia yesterday of typhoid fever. To-day is election day and pap went up about 3 o'clock and did not get back until nearly 10. He brought us some candy chocolate drops. We had a very fat goose for dinner, not a very young one. Had to have good teeth.  \n",
       "1                                       Went uptown in afternoon. Was up to Eckardt's but Miss Macfarlane was not there so I did not get what I wanted. Called at office and Nettie came home with me for tea. Mr Carman came over and borrowed my Mildred books. Then Leta came & borrowed my German Grammar as she forgot hers & left it at school before holiday. Papa, mamma, Nettie & I played crokinole. Mamma & I beat. The 2nd Contingent left for Toronto today to go to South Africa. Dr King's som went.  \n",
       "2                                                                                                                                                               Mrs Trusty was here washing School started to-day, but I was not going this week. Mamma went to the church and then to Mrs Chatfields Took her the church books. The queen Street Baptist church had a service of praise this evening. Mrs Chapman is organist & Mrs Read-Muir sang Mrs George Armstrong has a daughter was born on New Year's day.  \n",
       "3  Went over to Carman's to have Ella go with me to Dunn's greenhouse. We went about half past three. I brought a primrose Miss Chaplin was in there. Mamma went to Mrs Klotz at home Beatrice helped. Papa & I went to Sunday School entertainment at night. Had a very long programme. There was a dialogue called \"Aunt Ketty's shopping which was good, and a shaving scene. Mr perry gave a tableful of prizes away. Beatrice came home with us. They had a drill of girls & they sang \"Soldiers of the Queen\"  \n",
       "4                                                                                                         Sweep day. I read \"At the Camerons\" in the \"Harper's Young People\" when mamma was sweeping. We had a beggar in afternoon asking for a few cents as he had a long way to go. Rats! Went over to Lee's in afternoon after eggs. Took a \"Young Ladies Journal\" Mrs Pay lent me. Her kitty has a sore tail. Mrs Malcolmson came after eggs when I was there. She got large sum of 2. Had some candy at night.  "
      ]
     },
     "execution_count": 44,
     "metadata": {},
     "output_type": "execute_result"
    }
   ],
   "source": [
    "winnie_corpus = pd.read_csv('winnie_corpus.txt', header = None, delimiter=\"\\t\")\n",
    "winnie_corpus.columns = [\"Pagina\",\"Dia\",\"Texto\"]\n",
    "winnie_corpus['Dia'] = pd.to_datetime(winnie_corpus['Dia'])\n",
    "winnie_corpus['Texto'] = winnie_corpus.Texto.astype(str)\n",
    "\n",
    "#vista previa de nuestras entradas principales\n",
    "winnie_corpus.head()"
   ]
  },
  {
   "cell_type": "markdown",
   "id": "3ab7ba21",
   "metadata": {},
   "source": [
    "\n",
    "# Midiendo el Sentimiento\n",
    "\n",
    "Podemos analizar el `sentimiento`del texto (más [detalles](https://planspace.org/20150607-textblob_sentiment/).), Las frases para ver realmente un buen funcionamiento tienen que estar en Ingles,la siguiente celda demuestra esto:"
   ]
  },
  {
   "cell_type": "code",
   "execution_count": 45,
   "id": "501d6e02",
   "metadata": {},
   "outputs": [
    {
     "name": "stdout",
     "output_type": "stream",
     "text": [
      "Sentimiento de frase feliz  Sentiment(polarity=1.0, subjectivity=0.3)\n",
      "Sentimiento de triste frase  Sentiment(polarity=-0.51, subjectivity=1.0)\n"
     ]
    }
   ],
   "source": [
    "feliz_sentence = \"Python is the best programming language ever!\"\n",
    "triste_sentence = \"Python is difficult to use, and very frustrating\"\n",
    "\n",
    "\n",
    "print(\"Sentimiento de frase feliz \", TextBlob(feliz_sentence).sentiment)\n",
    "print(\"Sentimiento de triste frase \", TextBlob(triste_sentence).sentiment)\n",
    "\n",
    "# polarity oscila entre -1 y 1.\n",
    "# la subjectvity va de 0 a 1.\n"
   ]
  },
  {
   "cell_type": "markdown",
   "id": "6a243192",
   "metadata": {},
   "source": [
    "Probamos con un par de oraciones diferentes en la celda de código a continuación. Vea si puede crear algo que puntúe -1 y otro que puntúe 1 para _polaridad_. Vea si puede minimizar la _subjetividad_ de su oración. \n",
    "\n",
    "(Podemos crear una cadena de texto de varias líneas poniéndola entre comillas triples como la siguiente celda)."
   ]
  },
  {
   "cell_type": "code",
   "execution_count": 46,
   "id": "f0cc7a29",
   "metadata": {},
   "outputs": [
    {
     "name": "stdout",
     "output_type": "stream",
     "text": [
      "La puntuación de la oración de prueba es  Sentiment(polarity=-0.4, subjectivity=0.7)\n"
     ]
    }
   ],
   "source": [
    "Prueba_texto = \"\"\"\n",
    ">I'm tired of covid, I didn't like to catch it\n",
    "\"\"\"\n",
    "print(\"La puntuación de la oración de prueba es \", TextBlob(Prueba_texto).sentiment)"
   ]
  },
  {
   "cell_type": "markdown",
   "id": "756129bf",
   "metadata": {},
   "source": [
    "Agregar sentimiento a las entradas de nuestro diario\n",
    "\n",
    "La siguiente celda anotará cada entrada del diario en una nueva columna que se agregará al marco de datos. Recorremos cada entrada, calculamos las dos puntuaciones que representan el sentimiento. Después de calcular todos los puntajes, agréguelos al marco de datos."
   ]
  },
  {
   "cell_type": "code",
   "execution_count": 48,
   "id": "0ac050ea",
   "metadata": {},
   "outputs": [
    {
     "data": {
      "text/html": [
       "<div>\n",
       "<style scoped>\n",
       "    .dataframe tbody tr th:only-of-type {\n",
       "        vertical-align: middle;\n",
       "    }\n",
       "\n",
       "    .dataframe tbody tr th {\n",
       "        vertical-align: top;\n",
       "    }\n",
       "\n",
       "    .dataframe thead th {\n",
       "        text-align: right;\n",
       "    }\n",
       "</style>\n",
       "<table border=\"1\" class=\"dataframe\">\n",
       "  <thead>\n",
       "    <tr style=\"text-align: right;\">\n",
       "      <th></th>\n",
       "      <th>Pagina</th>\n",
       "      <th>Dia</th>\n",
       "      <th>Texto</th>\n",
       "      <th>polarity</th>\n",
       "      <th>subjectivity</th>\n",
       "    </tr>\n",
       "  </thead>\n",
       "  <tbody>\n",
       "    <tr>\n",
       "      <th>0</th>\n",
       "      <td>7</td>\n",
       "      <td>1900-01-01</td>\n",
       "      <td>New Year. First day of 1900 Charlie Merritt died at Grand Forks British Columbia yesterday of typhoid fever. To-day is election day and pap went up about 3 o'clock and did not get back until nearly 10. He brought us some candy chocolate drops. We had a very fat goose for dinner, not a very young one. Had to have good teeth.</td>\n",
       "      <td>0.205322</td>\n",
       "      <td>0.377286</td>\n",
       "    </tr>\n",
       "    <tr>\n",
       "      <th>1</th>\n",
       "      <td>7</td>\n",
       "      <td>1900-01-02</td>\n",
       "      <td>Went uptown in afternoon. Was up to Eckardt's but Miss Macfarlane was not there so I did not get what I wanted. Called at office and Nettie came home with me for tea. Mr Carman came over and borrowed my Mildred books. Then Leta came &amp; borrowed my German Grammar as she forgot hers &amp; left it at school before holiday. Papa, mamma, Nettie &amp; I played crokinole. Mamma &amp; I beat. The 2nd Contingent left for Toronto today to go to South Africa. Dr King's som went.</td>\n",
       "      <td>-0.020000</td>\n",
       "      <td>0.120000</td>\n",
       "    </tr>\n",
       "    <tr>\n",
       "      <th>2</th>\n",
       "      <td>8</td>\n",
       "      <td>1900-01-03</td>\n",
       "      <td>Mrs Trusty was here washing School started to-day, but I was not going this week. Mamma went to the church and then to Mrs Chatfields Took her the church books. The queen Street Baptist church had a service of praise this evening. Mrs Chapman is organist &amp; Mrs Read-Muir sang Mrs George Armstrong has a daughter was born on New Year's day.</td>\n",
       "      <td>0.136364</td>\n",
       "      <td>0.454545</td>\n",
       "    </tr>\n",
       "    <tr>\n",
       "      <th>3</th>\n",
       "      <td>8</td>\n",
       "      <td>1900-01-04</td>\n",
       "      <td>Went over to Carman's to have Ella go with me to Dunn's greenhouse. We went about half past three. I brought a primrose Miss Chaplin was in there. Mamma went to Mrs Klotz at home Beatrice helped. Papa &amp; I went to Sunday School entertainment at night. Had a very long programme. There was a dialogue called \"Aunt Ketty's shopping which was good, and a shaving scene. Mr perry gave a tableful of prizes away. Beatrice came home with us. They had a drill of girls &amp; they sang \"Soldiers of the Queen\"</td>\n",
       "      <td>0.054583</td>\n",
       "      <td>0.384167</td>\n",
       "    </tr>\n",
       "    <tr>\n",
       "      <th>4</th>\n",
       "      <td>9</td>\n",
       "      <td>1900-01-05</td>\n",
       "      <td>Sweep day. I read \"At the Camerons\" in the \"Harper's Young People\" when mamma was sweeping. We had a beggar in afternoon asking for a few cents as he had a long way to go. Rats! Went over to Lee's in afternoon after eggs. Took a \"Young Ladies Journal\" Mrs Pay lent me. Her kitty has a sore tail. Mrs Malcolmson came after eggs when I was there. She got large sum of 2. Had some candy at night.</td>\n",
       "      <td>0.030357</td>\n",
       "      <td>0.345714</td>\n",
       "    </tr>\n",
       "  </tbody>\n",
       "</table>\n",
       "</div>"
      ],
      "text/plain": [
       "   Pagina        Dia  \\\n",
       "0       7 1900-01-01   \n",
       "1       7 1900-01-02   \n",
       "2       8 1900-01-03   \n",
       "3       8 1900-01-04   \n",
       "4       9 1900-01-05   \n",
       "\n",
       "                                                                                                                                                                                                                                                                                                                                                                                                                                                                                                              Texto  \\\n",
       "0                                                                                                                                                                             New Year. First day of 1900 Charlie Merritt died at Grand Forks British Columbia yesterday of typhoid fever. To-day is election day and pap went up about 3 o'clock and did not get back until nearly 10. He brought us some candy chocolate drops. We had a very fat goose for dinner, not a very young one. Had to have good teeth.   \n",
       "1                                       Went uptown in afternoon. Was up to Eckardt's but Miss Macfarlane was not there so I did not get what I wanted. Called at office and Nettie came home with me for tea. Mr Carman came over and borrowed my Mildred books. Then Leta came & borrowed my German Grammar as she forgot hers & left it at school before holiday. Papa, mamma, Nettie & I played crokinole. Mamma & I beat. The 2nd Contingent left for Toronto today to go to South Africa. Dr King's som went.   \n",
       "2                                                                                                                                                               Mrs Trusty was here washing School started to-day, but I was not going this week. Mamma went to the church and then to Mrs Chatfields Took her the church books. The queen Street Baptist church had a service of praise this evening. Mrs Chapman is organist & Mrs Read-Muir sang Mrs George Armstrong has a daughter was born on New Year's day.   \n",
       "3  Went over to Carman's to have Ella go with me to Dunn's greenhouse. We went about half past three. I brought a primrose Miss Chaplin was in there. Mamma went to Mrs Klotz at home Beatrice helped. Papa & I went to Sunday School entertainment at night. Had a very long programme. There was a dialogue called \"Aunt Ketty's shopping which was good, and a shaving scene. Mr perry gave a tableful of prizes away. Beatrice came home with us. They had a drill of girls & they sang \"Soldiers of the Queen\"   \n",
       "4                                                                                                         Sweep day. I read \"At the Camerons\" in the \"Harper's Young People\" when mamma was sweeping. We had a beggar in afternoon asking for a few cents as he had a long way to go. Rats! Went over to Lee's in afternoon after eggs. Took a \"Young Ladies Journal\" Mrs Pay lent me. Her kitty has a sore tail. Mrs Malcolmson came after eggs when I was there. She got large sum of 2. Had some candy at night.   \n",
       "\n",
       "   polarity  subjectivity  \n",
       "0  0.205322      0.377286  \n",
       "1 -0.020000      0.120000  \n",
       "2  0.136364      0.454545  \n",
       "3  0.054583      0.384167  \n",
       "4  0.030357      0.345714  "
      ]
     },
     "execution_count": 48,
     "metadata": {},
     "output_type": "execute_result"
    }
   ],
   "source": [
    "#Aplicar análisis de sentimiento de TextBlob\n",
    "\n",
    "polarity = []\n",
    "subjectivity = []\n",
    "\n",
    "\n",
    "for day in winnie_corpus.Texto:\n",
    "    score = TextBlob(day)\n",
    "    polarity.append(score.sentiment.polarity)\n",
    "    subjectivity.append(score.sentiment.subjectivity)\n",
    "    \n",
    "winnie_corpus['polarity'] = polarity\n",
    "winnie_corpus['subjectivity'] = subjectivity\n",
    "\n",
    "winnie_corpus.head()"
   ]
  },
  {
   "cell_type": "markdown",
   "id": "5b738480",
   "metadata": {},
   "source": [
    "Ahora que tenemos valores de sentimiento diarios, intentemos visualizar cómo suben y bajan en el transcurso de los primeros 3 meses del año."
   ]
  },
  {
   "cell_type": "code",
   "execution_count": 56,
   "id": "511f4bac",
   "metadata": {},
   "outputs": [
    {
     "data": {
      "image/png": "[encoded data removed]",
      "text/plain": [
       "<Figure size 432x288 with 1 Axes>"
      ]
     },
     "metadata": {
      "needs_background": "light"
     },
     "output_type": "display_data"
    }
   ],
   "source": [
    "#Hagamos un gráfico del sentimiento a medida que cambia día a día.\n",
    "\n",
    "plt.plot(winnie_corpus[\"Dia\"],winnie_corpus[\"polarity\"])\n",
    "plt.xticks(rotation='35')\n",
    "plt.title(\"Sentimiento de las entradas del diario de Winnie\")\n",
    "plt.show()"
   ]
  },
  {
   "cell_type": "markdown",
   "id": "6ced8b35",
   "metadata": {},
   "source": [
    "\n",
    "## Picos interesantes?\n",
    "\n",
    "Vemos algunos picos negativos y positivos realmente fuertes en el sentimiento. Echemos un vistazo a algunas de esas entradas. Ejecute las siguientes tres celdas para ver las entradas negativas y positivas individuales."
   ]
  },
  {
   "cell_type": "code",
   "execution_count": 57,
   "id": "7bf4cc54",
   "metadata": {},
   "outputs": [],
   "source": [
    "#en lugar de mirar solo el valor más alto y el más bajo, reduciremos ese número en un valor de umbral\n",
    "#así podemos ver números que están cerca del sentimiento más alto y del sentimiento más bajo\n",
    "#empezaremos con el 20%.\n",
    "\n",
    "threshold = 0.2"
   ]
  },
  {
   "cell_type": "code",
   "execution_count": 62,
   "id": "2dbfe546",
   "metadata": {},
   "outputs": [
    {
     "data": {
      "text/html": [
       "<div>\n",
       "<style scoped>\n",
       "    .dataframe tbody tr th:only-of-type {\n",
       "        vertical-align: middle;\n",
       "    }\n",
       "\n",
       "    .dataframe tbody tr th {\n",
       "        vertical-align: top;\n",
       "    }\n",
       "\n",
       "    .dataframe thead th {\n",
       "        text-align: right;\n",
       "    }\n",
       "</style>\n",
       "<table border=\"1\" class=\"dataframe\">\n",
       "  <thead>\n",
       "    <tr style=\"text-align: right;\">\n",
       "      <th></th>\n",
       "      <th>Pagina</th>\n",
       "      <th>Dia</th>\n",
       "      <th>Texto</th>\n",
       "      <th>polarity</th>\n",
       "      <th>subjectivity</th>\n",
       "    </tr>\n",
       "  </thead>\n",
       "  <tbody>\n",
       "    <tr>\n",
       "      <th>85</th>\n",
       "      <td>49</td>\n",
       "      <td>1900-03-27</td>\n",
       "      <td>Mamma was out collecting in afternoon at Mrs Coy's Mrs Smith's Mrs Reynold's Mrs Pay is sick with grippe and he has been sick. Mrs Varley called on mamma. Papa and Sid went to the Falls again to-night. They me after Mr Herbert (Irrigation) Beatty. Sid came and staid here all night. They got home about 1 o'clock.</td>\n",
       "      <td>-0.714286</td>\n",
       "      <td>0.857143</td>\n",
       "    </tr>\n",
       "    <tr>\n",
       "      <th>168</th>\n",
       "      <td>92</td>\n",
       "      <td>1900-06-20</td>\n",
       "      <td>Wash day. Mrs. Trusty has been sick and Dr. Jory tells her it is paralysis coming on. In the afternoon I practiced &amp; worked at my Harmony until I did not know whether I was on my head or heels. Mamma went uptown, and to the church. She went to pay Mrs. Sullivans for my dress.</td>\n",
       "      <td>-0.714286</td>\n",
       "      <td>0.857143</td>\n",
       "    </tr>\n",
       "    <tr>\n",
       "      <th>260</th>\n",
       "      <td>138</td>\n",
       "      <td>1900-09-20</td>\n",
       "      <td>Nasty gloomy day. Mr McSloy sent papa five trout from Quebec. Had them Tuesday night. They tried to stop the ringing of the 6, 2, 5, &amp; 6 bells. Crazy.</td>\n",
       "      <td>-0.800000</td>\n",
       "      <td>0.950000</td>\n",
       "    </tr>\n",
       "  </tbody>\n",
       "</table>\n",
       "</div>"
      ],
      "text/plain": [
       "     Pagina        Dia  \\\n",
       "85       49 1900-03-27   \n",
       "168      92 1900-06-20   \n",
       "260     138 1900-09-20   \n",
       "\n",
       "                                                                                                                                                                                                                                                                                                                         Texto  \\\n",
       "85   Mamma was out collecting in afternoon at Mrs Coy's Mrs Smith's Mrs Reynold's Mrs Pay is sick with grippe and he has been sick. Mrs Varley called on mamma. Papa and Sid went to the Falls again to-night. They me after Mr Herbert (Irrigation) Beatty. Sid came and staid here all night. They got home about 1 o'clock.   \n",
       "168                                       Wash day. Mrs. Trusty has been sick and Dr. Jory tells her it is paralysis coming on. In the afternoon I practiced & worked at my Harmony until I did not know whether I was on my head or heels. Mamma went uptown, and to the church. She went to pay Mrs. Sullivans for my dress.   \n",
       "260                                                                                                                                                                     Nasty gloomy day. Mr McSloy sent papa five trout from Quebec. Had them Tuesday night. They tried to stop the ringing of the 6, 2, 5, & 6 bells. Crazy.   \n",
       "\n",
       "     polarity  subjectivity  \n",
       "85  -0.714286      0.857143  \n",
       "168 -0.714286      0.857143  \n",
       "260 -0.800000      0.950000  "
      ]
     },
     "execution_count": 62,
     "metadata": {},
     "output_type": "execute_result"
    }
   ],
   "source": [
    "#Muy negativo\n",
    "sentimiento_malo = winnie_corpus[\"polarity\"].min()\n",
    "\n",
    "#Reducir este número por umbral %\n",
    "sentimiento_malo = sentimiento_malo - (sentimiento_malo * threshold)\n",
    "\n",
    "winnie_corpus[winnie_corpus[\"polarity\"] <= sentimiento_malo]"
   ]
  },
  {
   "cell_type": "code",
   "execution_count": 65,
   "id": "a117f807",
   "metadata": {},
   "outputs": [
    {
     "data": {
      "text/html": [
       "<div>\n",
       "<style scoped>\n",
       "    .dataframe tbody tr th:only-of-type {\n",
       "        vertical-align: middle;\n",
       "    }\n",
       "\n",
       "    .dataframe tbody tr th {\n",
       "        vertical-align: top;\n",
       "    }\n",
       "\n",
       "    .dataframe thead th {\n",
       "        text-align: right;\n",
       "    }\n",
       "</style>\n",
       "<table border=\"1\" class=\"dataframe\">\n",
       "  <thead>\n",
       "    <tr style=\"text-align: right;\">\n",
       "      <th></th>\n",
       "      <th>Pagina</th>\n",
       "      <th>Dia</th>\n",
       "      <th>Texto</th>\n",
       "      <th>polarity</th>\n",
       "      <th>subjectivity</th>\n",
       "    </tr>\n",
       "  </thead>\n",
       "  <tbody>\n",
       "    <tr>\n",
       "      <th>91</th>\n",
       "      <td>53</td>\n",
       "      <td>1900-04-04</td>\n",
       "      <td>I sent for some pictures on Friday from Beverly, Mass and they came to-day, but they sent them to the customs, and charged 5 cents Mamma went to the church to auxiliary. Then I went to the service. Mr. Perry spoke on 1 Peter 1.4 verse. The Bishop staid at Merritt's and conducted the Lenten service in St. George's Church yesterday afternoon. Papa brought the pictures home. They are very nice. There are a lot of them on the \"Life of Christ\". Dr &amp; Mrs Klots were here in the evening. They played King Pedro</td>\n",
       "      <td>0.780</td>\n",
       "      <td>1.00</td>\n",
       "    </tr>\n",
       "    <tr>\n",
       "      <th>173</th>\n",
       "      <td>94</td>\n",
       "      <td>1900-06-25</td>\n",
       "      <td>Mamma went out collecting in afternoon. Very warm. In the evening papa caught the pigeons and Mr. Coy and he went to race course &amp; shot them. Dr. Kilmer &amp; Mr. Lovelace did not turn up. Della mamma &amp; I went for a drive. They had an undergraduate Music &amp; Elecution recital to-night at Demill, Did not go. Went home with Dell &amp; over to Dwyer's, Bessie Read was there. Got 12 pictures from Brown &amp; Co. Mr Painter gave papa four snapping turtle eggs on Saturday</td>\n",
       "      <td>0.780</td>\n",
       "      <td>0.78</td>\n",
       "    </tr>\n",
       "    <tr>\n",
       "      <th>244</th>\n",
       "      <td>130</td>\n",
       "      <td>1900-09-04</td>\n",
       "      <td>Was reading \"Three men on Wheels\" when Mrs Tulley and Dr Abbott came in. They wanted papa, mamma &amp; I to go to the Welland House for tea. Dr Abbott hurried up to the office and caught papa. Had a very good supper. They walked home with us. Mrs Tulley told about a good books \"Uarda\" by Ebeer.</td>\n",
       "      <td>0.805</td>\n",
       "      <td>0.69</td>\n",
       "    </tr>\n",
       "    <tr>\n",
       "      <th>324</th>\n",
       "      <td>170</td>\n",
       "      <td>1900-11-23</td>\n",
       "      <td>This morning I went uptown after my pins and to change my library book. Got \"Leofwine the Monk\". Very nice day. Mamma went uptown in the afternoon. McLaren's and Anderson's have their Christmas things in. The Collegiate Cadets have a concert to-night. Miss Murray is to sing, Miss McCallum recite and the flag is to be presented to the cadets.</td>\n",
       "      <td>0.780</td>\n",
       "      <td>1.00</td>\n",
       "    </tr>\n",
       "  </tbody>\n",
       "</table>\n",
       "</div>"
      ],
      "text/plain": [
       "     Pagina        Dia  \\\n",
       "91       53 1900-04-04   \n",
       "173      94 1900-06-25   \n",
       "244     130 1900-09-04   \n",
       "324     170 1900-11-23   \n",
       "\n",
       "                                                                                                                                                                                                                                                                                                                                                                                                                                                                                                                           Texto  \\\n",
       "91   I sent for some pictures on Friday from Beverly, Mass and they came to-day, but they sent them to the customs, and charged 5 cents Mamma went to the church to auxiliary. Then I went to the service. Mr. Perry spoke on 1 Peter 1.4 verse. The Bishop staid at Merritt's and conducted the Lenten service in St. George's Church yesterday afternoon. Papa brought the pictures home. They are very nice. There are a lot of them on the \"Life of Christ\". Dr & Mrs Klots were here in the evening. They played King Pedro   \n",
       "173                                                     Mamma went out collecting in afternoon. Very warm. In the evening papa caught the pigeons and Mr. Coy and he went to race course & shot them. Dr. Kilmer & Mr. Lovelace did not turn up. Della mamma & I went for a drive. They had an undergraduate Music & Elecution recital to-night at Demill, Did not go. Went home with Dell & over to Dwyer's, Bessie Read was there. Got 12 pictures from Brown & Co. Mr Painter gave papa four snapping turtle eggs on Saturday   \n",
       "244                                                                                                                                                                                                                          Was reading \"Three men on Wheels\" when Mrs Tulley and Dr Abbott came in. They wanted papa, mamma & I to go to the Welland House for tea. Dr Abbott hurried up to the office and caught papa. Had a very good supper. They walked home with us. Mrs Tulley told about a good books \"Uarda\" by Ebeer.   \n",
       "324                                                                                                                                                                      This morning I went uptown after my pins and to change my library book. Got \"Leofwine the Monk\". Very nice day. Mamma went uptown in the afternoon. McLaren's and Anderson's have their Christmas things in. The Collegiate Cadets have a concert to-night. Miss Murray is to sing, Miss McCallum recite and the flag is to be presented to the cadets.   \n",
       "\n",
       "     polarity  subjectivity  \n",
       "91      0.780          1.00  \n",
       "173     0.780          0.78  \n",
       "244     0.805          0.69  \n",
       "324     0.780          1.00  "
      ]
     },
     "execution_count": 65,
     "metadata": {},
     "output_type": "execute_result"
    }
   ],
   "source": [
    "#Muy positivo\n",
    "sentimiento_positivo = winnie_corpus[\"polarity\"].max()\n",
    "\n",
    "#Reducir este número por umbral %\n",
    "sentimiento_positivo = sentimiento_positivo - (sentimiento_positivo * threshold)\n",
    "\n",
    "winnie_corpus[winnie_corpus[\"polarity\"] >= sentimiento_positivo]"
   ]
  },
  {
   "cell_type": "code",
   "execution_count": null,
   "id": "a9cfe94d",
   "metadata": {},
   "outputs": [],
   "source": []
  }
 ],
 "metadata": {
  "kernelspec": {
   "display_name": "Python 3",
   "language": "python",
   "name": "python3"
  },
  "language_info": {
   "codemirror_mode": {
    "name": "ipython",
    "version": 3
   },
   "file_extension": ".py",
   "mimetype": "text/x-python",
   "name": "python",
   "nbconvert_exporter": "python",
   "pygments_lexer": "ipython3",
   "version": "3.9.2"
  }
 },
 "nbformat": 4,
 "nbformat_minor": 5
}
